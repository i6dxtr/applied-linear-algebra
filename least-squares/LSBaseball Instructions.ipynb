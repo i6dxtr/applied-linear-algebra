{
 "cells": [
  {
   "cell_type": "code",
   "execution_count": 2,
   "id": "1729d8fd",
   "metadata": {},
   "outputs": [],
   "source": [
    "import numpy as np\n",
    "import pandas as pd"
   ]
  },
  {
   "cell_type": "markdown",
   "id": "c71e6dfd",
   "metadata": {},
   "source": [
    "In lecture we considered a special case of this (where the mean of b is 0) here is the full story.  Suppose you are solving a least squares problem $\\min_x \\| Ax-b  \\|$ and $x_0$ is the unique solution. The error term $\\| Ax_0 - b  \\|$ describes how far off you are. In isolation this error term is basically meaningless, but when correctly normalized it contains valuable information.  Define the sum-squared error (SSE) as\n",
    "\n",
    "$ \\text{SSE} = \\| Ax_0 - b \\|^2  $\n",
    "\n",
    "and the total sum of squares (SSTO) as\n",
    "\n",
    "$\\text{SSTO} = \\| b \\|^2 - \\frac{1}{n}b^T\\text{np.ones}((n,n))b$ where $n,1$ = b.shape\n",
    "\n",
    "Finally define $R^2 = 1 - \\frac{\\text{SSE}}{\\text{SSTO}}$\n",
    "\n",
    "Remark:  If the mean of b is 0 then SSTO reduces to $\\| b \\|^2.$  The extra term in the general case takes into account the fact that the mean may not be 0.\n",
    "\n",
    "Although not totally obvious we always have $0\\leq R^2\\leq 1$ (it's an exercise you could do).  Roughly speaking, but not always correct, the higher the $R^2$ the better the job our linear model does to predict the outcome.  A rough interpretation of $R^2$ as a percentage: Say $R^2=.73$, then the model accounts for $73$% of the variance in the data. \n",
    "\n",
    "These rough interpretations are all we will need for this assignment--for more information take a course on linear regression or read a book about it, like this [one](https://books.google.com/books/about/Applied_Linear_Regression_Models.html?id=2sl_QgAACAAJ) that is pretty easy to find online."
   ]
  },
  {
   "cell_type": "markdown",
   "id": "8383e3d3",
   "metadata": {},
   "source": [
    "### Global variables\n",
    "\n",
    "We define the global variables dfr and dfo outside of your functions but you will reference them inside of your functions. We differentiate these from *local* variables that you define inside of your functions. In general global variables are discouraged but in this case it makes sense so you don't have to import large files every time you want to access them in a function."
   ]
  },
  {
   "cell_type": "code",
   "execution_count": null,
   "id": "552762cd",
   "metadata": {},
   "outputs": [],
   "source": [
    "dfr = pd.read_csv('retro.csv')\n",
    "dfo = pd.read_csv('offense.csv')"
   ]
  },
  {
   "cell_type": "code",
   "execution_count": null,
   "id": "7c234f7d",
   "metadata": {},
   "outputs": [],
   "source": [
    "def lin_weights(year,park):  #You are calculating 'linear weights', hence the name\n",
    "    \"\"\"Calculates linear weights for year and park\n",
    "    \n",
    "       Use least squares to calculate a 1x7 array b that best \n",
    "       approximates b[0] + BB*b[1] + 1B*b[2] + 2B*b[3] + 3B*b[4] + HR*b[5] = runs\n",
    "       for the given year and park.  The final entry b[6] is the R^2 value \n",
    "       (see the above cell on how to calculate R^2).\n",
    "       \n",
    "       Parameters\n",
    "       ----------\n",
    "       year : int\n",
    "       park : string\n",
    "           year corresponds to the 'year' heading in dfr\n",
    "           park correspond to the 'ParkID' heading in dfr\n",
    "           \n",
    "       Returns\n",
    "       -------\n",
    "       1x6 numpy array (We don't care about b[0] so don't return it)\n",
    "        \n",
    "    \"\"\"\n",
    "    pass\n",
    "    #Use the global variable dfr inside of your function"
   ]
  },
  {
   "cell_type": "markdown",
   "id": "25764c74",
   "metadata": {},
   "source": [
    "Test!!! Many years and many parks. Do your values make sense?  You should expect R^2 values roughly in the .65-.8 range."
   ]
  },
  {
   "cell_type": "markdown",
   "id": "2a211af8",
   "metadata": {},
   "source": [
    "# Use lin_weights to make a report"
   ]
  },
  {
   "cell_type": "markdown",
   "id": "183c4414",
   "metadata": {},
   "source": [
    "Choose a ParkID and a ten-year span (Not all parks exist in every 10 year span!).  You will record the linear weight of 'BB', '1B', etc over the span of that 10 year period in that park and produce a csv file with this information. \n",
    "\n",
    "Create a DataFrame that has columns: year, BB,1B,2B,3B,HR and in each row lists the year and the corresponding linear weight.\n",
    "\n",
    "Then save your DataFrame as a csv file that has the name of your park in the filename.  All of this code should go into a function.\n",
    "\n",
    "Hardcoding is to be expected in this function"
   ]
  },
  {
   "cell_type": "code",
   "execution_count": 3,
   "id": "206b0b5e",
   "metadata": {},
   "outputs": [
    {
     "data": {
      "text/html": [
       "<div>\n",
       "<style scoped>\n",
       "    .dataframe tbody tr th:only-of-type {\n",
       "        vertical-align: middle;\n",
       "    }\n",
       "\n",
       "    .dataframe tbody tr th {\n",
       "        vertical-align: top;\n",
       "    }\n",
       "\n",
       "    .dataframe thead th {\n",
       "        text-align: right;\n",
       "    }\n",
       "</style>\n",
       "<table border=\"1\" class=\"dataframe\">\n",
       "  <thead>\n",
       "    <tr style=\"text-align: right;\">\n",
       "      <th></th>\n",
       "      <th>BB</th>\n",
       "      <th>HR</th>\n",
       "    </tr>\n",
       "  </thead>\n",
       "  <tbody>\n",
       "    <tr>\n",
       "      <th>0</th>\n",
       "      <td>0.957960</td>\n",
       "      <td>0.595174</td>\n",
       "    </tr>\n",
       "    <tr>\n",
       "      <th>1</th>\n",
       "      <td>0.977735</td>\n",
       "      <td>0.723081</td>\n",
       "    </tr>\n",
       "    <tr>\n",
       "      <th>2</th>\n",
       "      <td>0.699355</td>\n",
       "      <td>0.769470</td>\n",
       "    </tr>\n",
       "    <tr>\n",
       "      <th>3</th>\n",
       "      <td>0.255901</td>\n",
       "      <td>0.461769</td>\n",
       "    </tr>\n",
       "    <tr>\n",
       "      <th>4</th>\n",
       "      <td>0.555207</td>\n",
       "      <td>0.766835</td>\n",
       "    </tr>\n",
       "  </tbody>\n",
       "</table>\n",
       "</div>"
      ],
      "text/plain": [
       "         BB        HR\n",
       "0  0.957960  0.595174\n",
       "1  0.977735  0.723081\n",
       "2  0.699355  0.769470\n",
       "3  0.255901  0.461769\n",
       "4  0.555207  0.766835"
      ]
     },
     "execution_count": 3,
     "metadata": {},
     "output_type": "execute_result"
    }
   ],
   "source": [
    "#This example might be helpful in making the DataFrame of your report!\n",
    "#I should have put it in the video tutorial!\n",
    "my_columns = ['BB','HR']\n",
    "my_array = np.random.rand(5,2)\n",
    "my_df = pd.DataFrame(my_array,columns=my_columns)\n",
    "my_df"
   ]
  },
  {
   "cell_type": "code",
   "execution_count": null,
   "id": "793934e1",
   "metadata": {},
   "outputs": [],
   "source": [
    "def make_park_report():\n",
    "    pass"
   ]
  },
  {
   "cell_type": "markdown",
   "id": "9ca73319",
   "metadata": {},
   "source": [
    "I'll will run your function make_report() and it should spit out the csv report."
   ]
  },
  {
   "cell_type": "markdown",
   "id": "61b3ae66",
   "metadata": {},
   "source": [
    "# Use lin_weights to assign \"context free\" credit to each player for how "
   ]
  },
  {
   "cell_type": "markdown",
   "id": "351cb0be",
   "metadata": {},
   "source": [
    "Choose a ball park that existed in 2023. Make it a different one than the one you chose in the previous report.  Use lin_weights to estimate how many runs each player from 2023 would score in your ball park. This can be acheived with one matrix multiplication--no loops!\n",
    "\n",
    "Create a DataFrame that has two columns: 'Name' and 'runs'. In each row it records the name of the player and the corresponding estimated runs.\n",
    "\n",
    "Then save your DataFrame as a csv file that has the name of your park in the filename.  All of this code should go into a function.\n",
    "\n",
    "Hardcoding is to be expected in this function"
   ]
  },
  {
   "cell_type": "code",
   "execution_count": null,
   "id": "86b2308d",
   "metadata": {},
   "outputs": [],
   "source": [
    "def make_player_report():\n",
    "    #Uses the global variable dff inside your function\n",
    "    pass"
   ]
  },
  {
   "cell_type": "code",
   "execution_count": null,
   "id": "1414e6c3",
   "metadata": {},
   "outputs": [],
   "source": []
  }
 ],
 "metadata": {
  "kernelspec": {
   "display_name": "Python 3 (ipykernel)",
   "language": "python",
   "name": "python3"
  },
  "language_info": {
   "codemirror_mode": {
    "name": "ipython",
    "version": 3
   },
   "file_extension": ".py",
   "mimetype": "text/x-python",
   "name": "python",
   "nbconvert_exporter": "python",
   "pygments_lexer": "ipython3",
   "version": "3.10.9"
  }
 },
 "nbformat": 4,
 "nbformat_minor": 5
}
