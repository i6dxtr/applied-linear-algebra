{
 "cells": [
  {
   "cell_type": "code",
   "execution_count": null,
   "id": "53109ccb",
   "metadata": {},
   "outputs": [],
   "source": [
    "import numpy as np\n",
    "import pandas as pd\n",
    "#You'll make a copy of this df in the first line of most functions\n",
    "global_sdf = pd.read_csv('fgswing.csv') "
   ]
  },
  {
   "cell_type": "markdown",
   "id": "6bde9bc1",
   "metadata": {},
   "source": [
    "### Project: You will cluster baseball players via the principal components of their swing profile. We will look at the following 6 measurements:"
   ]
  },
  {
   "cell_type": "code",
   "execution_count": null,
   "id": "77c150a2",
   "metadata": {},
   "outputs": [],
   "source": [
    "swing_cols = ['O-Swing%','Z-Swing%','O-Contact%','Z-Contact%','Soft%','Hard%']"
   ]
  },
  {
   "cell_type": "markdown",
   "id": "a89e9de7",
   "metadata": {},
   "source": [
    "These are defined as:\n",
    "1. O-Swing%: The percentage of times the batter swings at balls *out of* the strike zone\n",
    "\n",
    "2. Z-Swing%: The percentage of times the batter swings at balls *in* the strike zone\n",
    "\n",
    "3. O-Contact%: The percentage of times the batter swings and makes contact with balls *out of* the strike zone.\n",
    "\n",
    "4. Z-Contact%: The percentage of times the batter swings and makes contact with balls *in* the strike zone.\n",
    "\n",
    "5. Soft%: The percentage of times the batter makes soft contact.  \n",
    "\n",
    "6. Hard%: The percentage of times the batter makes hard contact."
   ]
  },
  {
   "cell_type": "markdown",
   "id": "313947ac",
   "metadata": {},
   "source": [
    "Some DataFrame things you might find helpful (I did).  \n",
    "\n",
    "1. If you find yourself wanting to rename columns in a DataFrame, try [this](https://pandas.pydata.org/docs/reference/api/pandas.DataFrame.rename.html)\n",
    "You can do this project without ever renaming a column, I just found it convenient in a couple places\n",
    "\n",
    "2. In the function get_comps you should definitely use DataFrame's sorting command to [sort values by column](https://pandas.pydata.org/docs/reference/api/pandas.DataFrame.sort_values.html). Maybe you can do this without using sort_values but it would be ugly.\n"
   ]
  },
  {
   "cell_type": "markdown",
   "id": "e950a6a9",
   "metadata": {},
   "source": [
    "3. You will do a *lot* of DataFrame indexing in this project. In addition to what you learned for the last project the following type of indexing will be used often. As always check the documentation for all you could want to know about [indexing](https://pandas.pydata.org/docs/user_guide/indexing.html)"
   ]
  },
  {
   "cell_type": "code",
   "execution_count": null,
   "id": "a7b0d5f0",
   "metadata": {
    "scrolled": true
   },
   "outputs": [],
   "source": [
    "sdf = global_sdf.copy()\n",
    "sdf.head()"
   ]
  },
  {
   "cell_type": "code",
   "execution_count": null,
   "id": "8eac4162",
   "metadata": {},
   "outputs": [],
   "source": [
    "sdf = sdf.loc[sdf['Season'] == 2022,['Season','Team','Soft%']]\n",
    "sdf.head()"
   ]
  },
  {
   "cell_type": "markdown",
   "id": "d4735b38",
   "metadata": {},
   "source": [
    "# Your worked-through handout from Wednesday, Nov. 6 should be with you"
   ]
  },
  {
   "cell_type": "markdown",
   "id": "586f6da7",
   "metadata": {},
   "source": [
    "Do not worry about putting error messages in your functions if a user does not for example enter a year in the correct range.  Assume these functions are only being accessed after put through some error-message functions first.  In each function we make a copy of the global_sdf so you can freely do whatever you want to sdf without\n",
    "messing up global_sdf."
   ]
  },
  {
   "cell_type": "code",
   "execution_count": null,
   "id": "a266d98a",
   "metadata": {},
   "outputs": [],
   "source": [
    "def data_to_svd(year):\n",
    "    \"\"\"\n",
    "    Parameters\n",
    "    ----------\n",
    "    global  : DataFrame sdf = global_sdf.copy() \n",
    "    year : int in range 2021-2024 inclusive\n",
    "    \n",
    "    Returns\n",
    "    -------\n",
    "    Three 2D arrays : The U,S,Vh values in the SVD of the mean_zero version of the\n",
    "                      swing_cols data\n",
    "    \"\"\"\n",
    "    sdf = global_sdf.copy()"
   ]
  },
  {
   "cell_type": "code",
   "execution_count": null,
   "id": "fa81f3ff",
   "metadata": {},
   "outputs": [],
   "source": [
    "def make_pcdf():\n",
    "    \"\"\"\n",
    "    Parameters\n",
    "    ----------\n",
    "    global  : DataFrame sdf = global_sdf.copy()\n",
    "    \n",
    "    Returns\n",
    "    -------\n",
    "    DataFrame with 8 columns: Name,Year, p1,...,p6. Below 'Name' is the player's \n",
    "    Name. Below 'Year' is the corresponding Year. Below each 'pi' is the weighted \n",
    "    ith principal component (i.e. the U values from \n",
    "    the mean_zero version of the swing_cols data) for the player in the given year\n",
    "    \"\"\"\n",
    "    sdf = global_sdf.copy()"
   ]
  },
  {
   "cell_type": "markdown",
   "id": "360e5f81",
   "metadata": {},
   "source": [
    "Let's see how variation percentages have changed over the last 4 years (2020 was a covid-shortened season so 4 years is a natural cutoff)"
   ]
  },
  {
   "cell_type": "code",
   "execution_count": null,
   "id": "efee4933",
   "metadata": {},
   "outputs": [],
   "source": [
    "def make_vardf():\n",
    "    \"\"\"\n",
    "    Parameters\n",
    "    ----------\n",
    "    global  : DataFrame sdf = global_sdf.copy()\n",
    "    \n",
    "    Returns\n",
    "    -------\n",
    "    DataFrame with 6 columns: Year, var1,...,var5.  Below 'Year' is the year and \n",
    "    below 'vari'is the percentage of total variance due to the first i principal \n",
    "    components corresponding to that year.\n",
    "    \n",
    "    \"\"\"\n",
    "    sdf = global_sdf.copy()"
   ]
  },
  {
   "cell_type": "code",
   "execution_count": null,
   "id": "014b94b7",
   "metadata": {},
   "outputs": [],
   "source": [
    "def get_comps(player,year):\n",
    "    \"\"\"\n",
    "    Parameters\n",
    "    ----------\n",
    "    global  : DataFrame sdf = global_sdf.copy()\n",
    "    player : string , name of a player\n",
    "    year : int in range 2021-2024 inclusive\n",
    "    \n",
    "    Returns\n",
    "    -------\n",
    "    A python list of 3 player names, for example ['Bobby Witt','Steven Kwan','Spencer Steer']\n",
    "    For the given player find the 3 players whose first three U coordinates are closest to\n",
    "    the player's and return those names in a list.  There are 6 total U coordinates we will\n",
    "    only consider the first three.\n",
    "    \"\"\"\n",
    "    sdf = global_sdf.copy()\n",
    "    #I found it easiest to make a 2 column df.  One column\n",
    "    #with the player names and the second column had the distances between each player and \n",
    "    #the given player. Then I sorted this\n",
    "    #df using sort_values to find the three closest"
   ]
  },
  {
   "cell_type": "markdown",
   "id": "32b42303",
   "metadata": {},
   "source": [
    "Don't do anything with the next function.  It just isolates some annoying DataFrame stuff needed for cluster_report"
   ]
  },
  {
   "cell_type": "code",
   "execution_count": null,
   "id": "6349a257",
   "metadata": {},
   "outputs": [],
   "source": [
    "def comp_df(year):\n",
    "    \"\"\"\n",
    "    Parameters\n",
    "    ----------\n",
    "    global  : DataFrame sdf = global_sdf.copy()\n",
    "    year : int in range 2021-2024 inclusive\n",
    "    \n",
    "    Returns\n",
    "    -------\n",
    "    A DataFrame with index the 'Name' column of dataframe, 4 columns labelled \n",
    "    'Comp1','Comp2','Comp3'and empty entries.  \n",
    "    \"\"\"\n",
    "    sdf = global_sdf.copy()\n",
    "    sdf = sdf.loc[sdf['Season'] == year]\n",
    "    names = list(sdf['Name'])\n",
    "    m = len(names)\n",
    "    A = np.empty((m,4),dtype=object)\n",
    "    df = pd.DataFrame(A,columns=['Name','Comp1','Comp2','Comp3'])\n",
    "    df['Name'] = names\n",
    "    return df"
   ]
  },
  {
   "cell_type": "markdown",
   "id": "5b1144d1",
   "metadata": {},
   "source": [
    "Finally let's make a report with no numbers in it for our colleagues who are less numerically inclined. We will list all players in given year and then list their three closest comparable players or 'comps'"
   ]
  },
  {
   "cell_type": "code",
   "execution_count": null,
   "id": "5b4067ba",
   "metadata": {},
   "outputs": [],
   "source": [
    "def cluster_report(year):\n",
    "    \"\"\"\n",
    "    Parameters\n",
    "    ----------\n",
    "    global  : DataFrame sdf = global_sdf.copy()\n",
    "    year : int in range 2021-2024 inclusive\n",
    "    \n",
    "    Returns\n",
    "    -------\n",
    "    Dataframe with 5 columns : Name,Year,Comp1,Comp2,Comp3.  'Name' and 'Year' are the name\n",
    "    of a player and the year respectively.  comp1,comp2 and comp3 should be the three \n",
    "    closest players as calculated in get_comps.\n",
    "    \n",
    "    \"\"\"\n",
    "    sdf = global_sdf.copy()\n",
    "    rep_df = comp_df(year)\n",
    "    #Now fill in rep_df by looping through the names and computing the comp\n",
    "    #This might take a minute to run, I chose clarity over efficiency..."
   ]
  }
 ],
 "metadata": {
  "kernelspec": {
   "display_name": "Python 3 (ipykernel)",
   "language": "python",
   "name": "python3"
  },
  "language_info": {
   "codemirror_mode": {
    "name": "ipython",
    "version": 3
   },
   "file_extension": ".py",
   "mimetype": "text/x-python",
   "name": "python",
   "nbconvert_exporter": "python",
   "pygments_lexer": "ipython3",
   "version": "3.10.9"
  }
 },
 "nbformat": 4,
 "nbformat_minor": 5
}
