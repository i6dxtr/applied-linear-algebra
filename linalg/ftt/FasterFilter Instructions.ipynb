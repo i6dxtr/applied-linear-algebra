{
 "cells": [
  {
   "cell_type": "code",
   "execution_count": 5,
   "id": "e79fbc58",
   "metadata": {},
   "outputs": [],
   "source": [
    "import numpy as np\n",
    "from mth433 import fast_filter\n",
    "#fast_filter is slow_filter but with schur_sum replaced by FFT\n",
    "from PIL import Image"
   ]
  },
  {
   "cell_type": "markdown",
   "id": "a70d8098",
   "metadata": {},
   "source": [
    "## You will use fast_filter on this assignment instead of slow_filter. They do the *exact same thing* just at different rates.  You know how to use slow_filter so you know how to use fast_filter."
   ]
  },
  {
   "cell_type": "markdown",
   "id": "9a0076ba",
   "metadata": {},
   "source": [
    "This assignment is very little coding and more playing around with filters--something that was impossible with a slow filter but thanks to the FFT is now possible!\n",
    "\n",
    "We will scratch the surface of filters but if you find this topic interesting there are many many many books on image/video processing that give a fair treatment of the mathematics, for example [this book](https://szeliski.org/Book/). \n",
    "\n",
    "Our goal is modest--See one filter for image enhancement and one filter that is useful but not necessarily for image enhancement."
   ]
  },
  {
   "cell_type": "markdown",
   "id": "f5d8fc35",
   "metadata": {},
   "source": [
    "# $\\downarrow$ How to rotate Images $\\downarrow$"
   ]
  },
  {
   "cell_type": "markdown",
   "id": "6b116344",
   "metadata": {},
   "source": [
    "Sometimes PIL rotates images when it imports them.  If you want to fix that use the [rotate](https://pillow.readthedocs.io/en/stable/reference/Image.html#PIL.Image.Image.rotate) command.  In particular im = im.rotate(degrees,expand=True) will rotate the image degrees many degrees and the expand=True will prevent it from chopping off some of the image"
   ]
  },
  {
   "cell_type": "markdown",
   "id": "a3dbf8ca",
   "metadata": {},
   "source": [
    "Problem 1. Edge Detection via the [Sobel filter](https://en.wikipedia.org/wiki/Sobel_operator).  Follow that link to see the definition of Sobel filters $\\mathbf{G}_x$ and $\\mathbf{G}_y.$ Make/find an image and do the following using fast_filter:\n",
    "1. Pass the filter $\\mathbf{G}_x$ across the image\n",
    "2. Pass the filter $\\mathbf{G}_y$ accros the image\n",
    "\n",
    "Does it look like your filters are detecting edges (i.e. do the white curves on the filtered image seem to correspond to edges in the original?) Are the two filters detecting the same edges?"
   ]
  },
  {
   "cell_type": "markdown",
   "id": "7b32d62b",
   "metadata": {},
   "source": [
    "Problem 2. Sharpening images with blurring filters. From a blurring filter we can create a *sharpening* filter as follows: (see [Section 3.2](https://szeliski.org/Book/) for an explanation of this formula) "
   ]
  },
  {
   "cell_type": "code",
   "execution_count": 3,
   "id": "664d8125",
   "metadata": {},
   "outputs": [],
   "source": [
    "def sharp_filter(weight,gamma):\n",
    "    \"\"\"Makes a sharpening filter from a blurring filter\n",
    "    \n",
    "    Parameters\n",
    "    ----------\n",
    "    weight : 2D array\n",
    "    gamma : positive float\n",
    "    \n",
    "    Returns\n",
    "    -------\n",
    "    2D array\n",
    "    \"\"\"\n",
    "    weight = -gamma*weight\n",
    "    weight[0,0] = weight[0,0] + 1 + gamma\n",
    "    return weight"
   ]
  },
  {
   "cell_type": "markdown",
   "id": "09a7f3ad",
   "metadata": {},
   "source": [
    "Make/find a somewhat blurry image and pass a sharpening filter over it for different values of gamma and different weights. Try the blurring box filters that you used in the slow filter assignment and/or read about Gaussian blur and make those filters by hand.  "
   ]
  }
 ],
 "metadata": {
  "kernelspec": {
   "display_name": "Python 3 (ipykernel)",
   "language": "python",
   "name": "python3"
  },
  "language_info": {
   "codemirror_mode": {
    "name": "ipython",
    "version": 3
   },
   "file_extension": ".py",
   "mimetype": "text/x-python",
   "name": "python",
   "nbconvert_exporter": "python",
   "pygments_lexer": "ipython3",
   "version": "3.10.9"
  }
 },
 "nbformat": 4,
 "nbformat_minor": 5
}
