{
 "cells": [
  {
   "cell_type": "markdown",
   "id": "f1a6e036",
   "metadata": {},
   "source": [
    "# Matrix Basics"
   ]
  },
  {
   "cell_type": "code",
   "execution_count": 1,
   "id": "087ba3e4",
   "metadata": {},
   "outputs": [],
   "source": [
    "import numpy as np"
   ]
  },
  {
   "cell_type": "markdown",
   "id": "c2d32a3b",
   "metadata": {},
   "source": [
    "### The [numpy documentaion](https://numpy.org/doc/2.1/) is the place to learn more about numpy.  My tutorials will always contain direct links to the relevant part of the documenation."
   ]
  },
  {
   "cell_type": "markdown",
   "id": "43f25aa3",
   "metadata": {},
   "source": [
    "## A. Very useful matrices"
   ]
  },
  {
   "cell_type": "markdown",
   "id": "02972c58",
   "metadata": {},
   "source": [
    "### 1. How to make a matrix by \"hand\""
   ]
  },
  {
   "cell_type": "markdown",
   "id": "b3e71620",
   "metadata": {},
   "source": [
    "Arrays will be the most common data structure used in this course.\n",
    "[np.array](https://numpy.org/doc/stable/reference/generated/numpy.array.html) is the command we use to build a matrix 'by hand'.  \n",
    "For example to define the matrix\n",
    "\n",
    "$\\left[\\begin{array}{ccc} 1 & 2 & 3\\\\ 4 & 5 & 6  \\end{array}\\right]$\n",
    "\n",
    "use the command"
   ]
  },
  {
   "cell_type": "code",
   "execution_count": 2,
   "id": "938bd58d",
   "metadata": {
    "scrolled": true
   },
   "outputs": [
    {
     "data": {
      "text/plain": [
       "array([[1, 2, 3],\n",
       "       [4, 5, 6]])"
      ]
     },
     "execution_count": 2,
     "metadata": {},
     "output_type": "execute_result"
    }
   ],
   "source": [
    "A = np.array([[1,2,3],[4,5,6]])\n",
    "A"
   ]
  },
  {
   "cell_type": "markdown",
   "id": "3b883ac7",
   "metadata": {},
   "source": [
    "# Remark: First I defined the matrix A.  Then I typed A.  This tells Jupyter to display A.  Notice what happens in the next cell.  The matrix A is defined but Jupyter does not display it."
   ]
  },
  {
   "cell_type": "code",
   "execution_count": 3,
   "id": "7deaca0a",
   "metadata": {},
   "outputs": [],
   "source": [
    "A = np.array([[5,4,3,2],[1,2,1,1]])"
   ]
  },
  {
   "cell_type": "markdown",
   "id": "015b3867",
   "metadata": {},
   "source": [
    "To display it type 'A' into a Code cell:"
   ]
  },
  {
   "cell_type": "code",
   "execution_count": 4,
   "id": "dbacad27",
   "metadata": {
    "scrolled": true
   },
   "outputs": [
    {
     "data": {
      "text/plain": [
       "array([[5, 4, 3, 2],\n",
       "       [1, 2, 1, 1]])"
      ]
     },
     "execution_count": 4,
     "metadata": {},
     "output_type": "execute_result"
    }
   ],
   "source": [
    "A"
   ]
  },
  {
   "cell_type": "markdown",
   "id": "cef6dde4",
   "metadata": {},
   "source": [
    "Furthermore if I hadn't used a variable at all, the matrix would be automatically displayed"
   ]
  },
  {
   "cell_type": "code",
   "execution_count": 5,
   "id": "cf2d0f20",
   "metadata": {},
   "outputs": [
    {
     "data": {
      "text/plain": [
       "array([[ 6.5,  5. ],\n",
       "       [75. , -1. ]])"
      ]
     },
     "execution_count": 5,
     "metadata": {},
     "output_type": "execute_result"
    }
   ],
   "source": [
    "np.array([[6.5,5],[75,-1]])"
   ]
  },
  {
   "cell_type": "markdown",
   "id": "13b62b4d",
   "metadata": {},
   "source": [
    "### 2. How to make a zero matrix"
   ]
  },
  {
   "cell_type": "markdown",
   "id": "e70ca505",
   "metadata": {},
   "source": [
    "The command [np.zeros((m,n))](https://numpy.org/doc/stable/reference/generated/numpy.zeros.html)\n",
    "constructs the $m\\times n$ zero matrix. \n",
    "\n",
    "For example to define the matrix\n",
    "\n",
    "$\\left[\\begin{array}{cc} 0 & 0\\\\ 0 & 0\\\\ 0 & 0  \\end{array}\\right]$\n",
    "\n",
    "use the command"
   ]
  },
  {
   "cell_type": "code",
   "execution_count": 6,
   "id": "27ffa342",
   "metadata": {},
   "outputs": [
    {
     "data": {
      "text/plain": [
       "array([[0., 0.],\n",
       "       [0., 0.],\n",
       "       [0., 0.]])"
      ]
     },
     "execution_count": 6,
     "metadata": {},
     "output_type": "execute_result"
    }
   ],
   "source": [
    "A = np.zeros((3,2))\n",
    "A"
   ]
  },
  {
   "cell_type": "markdown",
   "id": "e8501257",
   "metadata": {},
   "source": [
    "What do you think np.ones does?"
   ]
  },
  {
   "cell_type": "markdown",
   "id": "0f22a641",
   "metadata": {},
   "source": [
    "### 3. How to make an identity matrix"
   ]
  },
  {
   "cell_type": "markdown",
   "id": "757b1132",
   "metadata": {},
   "source": [
    "The command [np.eye(n)](https://numpy.org/devdocs/reference/generated/numpy.eye.html) constructs an $n\\times n$ identity matrix.\n",
    "\n",
    "For example to define the matrix\n",
    "\n",
    "$\\left[ \\begin{array}{cccc} 1 & 0 & 0 & 0\\\\ 0 & 1 & 0 & 0\\\\ 0 & 0 & 1 & 0\\\\ 0 & 0 & 0 & 1   \\end{array} \\right]$\n",
    "\n",
    "use the command"
   ]
  },
  {
   "cell_type": "code",
   "execution_count": 7,
   "id": "a80dee3b",
   "metadata": {},
   "outputs": [
    {
     "data": {
      "text/plain": [
       "array([[1., 0., 0., 0.],\n",
       "       [0., 1., 0., 0.],\n",
       "       [0., 0., 1., 0.],\n",
       "       [0., 0., 0., 1.]])"
      ]
     },
     "execution_count": 7,
     "metadata": {},
     "output_type": "execute_result"
    }
   ],
   "source": [
    "A = np.eye(4)\n",
    "A"
   ]
  },
  {
   "cell_type": "markdown",
   "id": "cf7cb8c6",
   "metadata": {},
   "source": [
    "### 4. Three ways to make test matrices"
   ]
  },
  {
   "cell_type": "markdown",
   "id": "d7a5e18b",
   "metadata": {},
   "source": [
    "We need methods to painlessly generate matrices that we can test in our functions.\n",
    "\n",
    "The command [np.random.rand(m,n)](https://numpy.org/doc/stable/reference/random/generated/numpy.random.rand.html)\n",
    "generates a mxn matrix with entries chosen uniformly from (0,1).\n",
    "\n",
    "For example to define a random 3x2 matrix use the command"
   ]
  },
  {
   "cell_type": "code",
   "execution_count": 8,
   "id": "4b852325",
   "metadata": {},
   "outputs": [
    {
     "data": {
      "text/plain": [
       "array([[0.47443621, 0.14067447],\n",
       "       [0.88907312, 0.54168651],\n",
       "       [0.56819173, 0.43190616]])"
      ]
     },
     "execution_count": 8,
     "metadata": {},
     "output_type": "execute_result"
    }
   ],
   "source": [
    "A = np.random.rand(3,2)\n",
    "A"
   ]
  },
  {
   "cell_type": "markdown",
   "id": "b7a7b5b1",
   "metadata": {},
   "source": [
    "The command [np.random.randint(a,b,(m,n))](https://numpy.org/doc/stable/reference/random/generated/numpy.random.randint.html) generates a random $m\\times n$ matrix with integer entries in the range $[a,b).$\n",
    "\n",
    "For example to make a $4\\times 3$ matrix with entries between $-6$ and $10$ use the command"
   ]
  },
  {
   "cell_type": "code",
   "execution_count": 9,
   "id": "582490ff",
   "metadata": {},
   "outputs": [
    {
     "data": {
      "text/plain": [
       "array([[ 3, -6, -1],\n",
       "       [ 4, -4, -2],\n",
       "       [ 1,  9, -3],\n",
       "       [-3, -1,  4]])"
      ]
     },
     "execution_count": 9,
     "metadata": {},
     "output_type": "execute_result"
    }
   ],
   "source": [
    "A = np.random.randint(-6,10,(4,3))\n",
    "A"
   ]
  },
  {
   "cell_type": "code",
   "execution_count": 10,
   "id": "cd108d25",
   "metadata": {},
   "outputs": [
    {
     "data": {
      "text/plain": [
       "array([ 0,  1,  2,  3,  4,  5,  6,  7,  8,  9, 10, 11, 12, 13, 14])"
      ]
     },
     "execution_count": 10,
     "metadata": {},
     "output_type": "execute_result"
    }
   ],
   "source": [
    "np.array(range(15))"
   ]
  },
  {
   "cell_type": "markdown",
   "id": "519b5633",
   "metadata": {},
   "source": [
    "Here's another convenient way to generate test matrices.  Suppose I want a $5\\times 5$ matrix with entries 0 to 24 but don't want to type 16 different entries.  We can use Python's [range](https://docs.python.org/3/library/functions.html#func-range) function and Numpy's [resize](https://numpy.org/doc/stable/reference/generated/numpy.resize.html#numpy-resize) to acheive this in a couple lines:"
   ]
  },
  {
   "cell_type": "code",
   "execution_count": 11,
   "id": "dfb3c4dc",
   "metadata": {
    "scrolled": true
   },
   "outputs": [
    {
     "data": {
      "text/plain": [
       "array([ 0,  1,  2,  3,  4,  5,  6,  7,  8,  9, 10, 11, 12, 13, 14, 15, 16,\n",
       "       17, 18, 19, 20, 21, 22, 23, 24])"
      ]
     },
     "execution_count": 11,
     "metadata": {},
     "output_type": "execute_result"
    }
   ],
   "source": [
    "A = np.array(range(25))\n",
    "A"
   ]
  },
  {
   "cell_type": "markdown",
   "id": "8cdc23e7",
   "metadata": {},
   "source": [
    "Now we reshape this $1\\times 25$ matrix into a $5\\times 5$ matrix:"
   ]
  },
  {
   "cell_type": "code",
   "execution_count": 12,
   "id": "f214fec0",
   "metadata": {},
   "outputs": [
    {
     "data": {
      "text/plain": [
       "array([[ 0,  1,  2,  3,  4],\n",
       "       [ 5,  6,  7,  8,  9],\n",
       "       [10, 11, 12, 13, 14],\n",
       "       [15, 16, 17, 18, 19],\n",
       "       [20, 21, 22, 23, 24]])"
      ]
     },
     "execution_count": 12,
     "metadata": {},
     "output_type": "execute_result"
    }
   ],
   "source": [
    "B = np.reshape(A,(5,5))\n",
    "B"
   ]
  },
  {
   "cell_type": "markdown",
   "id": "c40abbf6",
   "metadata": {},
   "source": [
    "## B. Manipulating matrices"
   ]
  },
  {
   "cell_type": "markdown",
   "id": "6738d41c",
   "metadata": {},
   "source": [
    "### 1. Constructing Submatrices"
   ]
  },
  {
   "cell_type": "markdown",
   "id": "14b7f459",
   "metadata": {},
   "source": [
    "Numpy calls these operations [indexing](https://numpy.org/doc/stable/user/basics.indexing.html)\n",
    "\n",
    "Start with a random 4x5 matrix A"
   ]
  },
  {
   "cell_type": "code",
   "execution_count": 13,
   "id": "cd819546",
   "metadata": {
    "scrolled": true
   },
   "outputs": [
    {
     "data": {
      "text/plain": [
       "array([[0.11080562, 0.02128362, 0.75830518, 0.17114866, 0.31746312],\n",
       "       [0.07755142, 0.09252906, 0.09994519, 0.0664871 , 0.12514817],\n",
       "       [0.44388432, 0.46929985, 0.48918122, 0.29815865, 0.92352543],\n",
       "       [0.85178272, 0.80608386, 0.08155069, 0.63150732, 0.64749082]])"
      ]
     },
     "execution_count": 13,
     "metadata": {},
     "output_type": "execute_result"
    }
   ],
   "source": [
    "A = np.random.rand(4,5)\n",
    "A"
   ]
  },
  {
   "cell_type": "markdown",
   "id": "0cae71d5",
   "metadata": {},
   "source": [
    "Obtain a submatrix consisting of rows a to b and columns c to d\n",
    "<br> with the command A[a:b+1, c:d+1]. \n",
    "<br> For example to define the 3x2 submatrix of A consisting of \n",
    "<br> rows 1 to 3 and columns 0 to 1 use the command"
   ]
  },
  {
   "cell_type": "code",
   "execution_count": 14,
   "id": "298cf2a8",
   "metadata": {
    "scrolled": true
   },
   "outputs": [
    {
     "data": {
      "text/plain": [
       "array([[0.07755142, 0.09252906],\n",
       "       [0.44388432, 0.46929985],\n",
       "       [0.85178272, 0.80608386]])"
      ]
     },
     "execution_count": 14,
     "metadata": {},
     "output_type": "execute_result"
    }
   ],
   "source": [
    "B = A[1:4,0:2]\n",
    "B"
   ]
  },
  {
   "cell_type": "markdown",
   "id": "a4a17f70",
   "metadata": {},
   "source": [
    "We commonly want to define a submatrix that has ALL rows \n",
    "<br>and only some of the columns (or vice versa).\n",
    "<br>A useful shortcut:  A[:,a:b+1] is the submatrix consisting\n",
    "<br>of all rows, but only columns a to b while A[a:b+1,:] gives the submatrix \n",
    "<br>consisting or all columns, but only rows a to b.\n",
    "<br>For example to define the submatrix of A consisting of all rows, but only columns 1 to 3 use the command"
   ]
  },
  {
   "cell_type": "code",
   "execution_count": 15,
   "id": "c012114d",
   "metadata": {},
   "outputs": [
    {
     "data": {
      "text/plain": [
       "array([[0.02128362, 0.75830518, 0.17114866],\n",
       "       [0.09252906, 0.09994519, 0.0664871 ],\n",
       "       [0.46929985, 0.48918122, 0.29815865],\n",
       "       [0.80608386, 0.08155069, 0.63150732]])"
      ]
     },
     "execution_count": 15,
     "metadata": {},
     "output_type": "execute_result"
    }
   ],
   "source": [
    "C = A[:,1:4]\n",
    "C"
   ]
  },
  {
   "cell_type": "markdown",
   "id": "77a223eb",
   "metadata": {},
   "source": [
    "And to define the submatrix that is all columns and the first 2 rows use"
   ]
  },
  {
   "cell_type": "code",
   "execution_count": 16,
   "id": "3067d690",
   "metadata": {},
   "outputs": [
    {
     "data": {
      "text/plain": [
       "array([[0.11080562, 0.02128362, 0.75830518, 0.17114866, 0.31746312],\n",
       "       [0.07755142, 0.09252906, 0.09994519, 0.0664871 , 0.12514817]])"
      ]
     },
     "execution_count": 16,
     "metadata": {},
     "output_type": "execute_result"
    }
   ],
   "source": [
    "D = A[0:2,:]\n",
    "D"
   ]
  },
  {
   "cell_type": "markdown",
   "id": "3d034d4f",
   "metadata": {},
   "source": [
    "This is helpful as well.  Do you see what it does?"
   ]
  },
  {
   "cell_type": "code",
   "execution_count": 17,
   "id": "c74baa21",
   "metadata": {},
   "outputs": [
    {
     "data": {
      "text/plain": [
       "array([[0.75830518, 0.17114866, 0.31746312],\n",
       "       [0.09994519, 0.0664871 , 0.12514817],\n",
       "       [0.48918122, 0.29815865, 0.92352543]])"
      ]
     },
     "execution_count": 17,
     "metadata": {},
     "output_type": "execute_result"
    }
   ],
   "source": [
    "E = A[0:3,2:]\n",
    "E"
   ]
  },
  {
   "cell_type": "markdown",
   "id": "0dde0f6e",
   "metadata": {},
   "source": [
    "### 2. Concatenating matrices\n",
    "<br> \n",
    "<br> Sometimes we need to \"glue\" matrices together. For example define\n",
    "\n",
    "$X_1 = \\left[  \\begin{array}{rrr}1.2 & -3 & 0\\\\ 10.1 & 6.23 & -0.22 \\end{array}  \\right],\\quad X_2 = \\left[\\begin{array}{rr}   1 & 0\\\\ 2 & -3 \\end{array}\\right], \\quad X_3 = \\left[\\begin{array}{ccc} 5 & -6 & 3.441 \\end{array}  \\right]$\n",
    "\n",
    "We want to easily construct the matrices\n",
    "$\\left[ \\begin{array}{cc} X_1 & X_2  \\end{array}  \\right] = \\left[ \\begin{array}{rrrrr} 1.2 & -3 & 0 & 1 & 0\\\\ 10.1 & 6.23 & -0.22 & 2 & -3  \\end{array}  \\right]$ and $\\left[\\begin{array}{c} X_1\\\\ X_3  \\end{array}  \\right] = \\left[  \\begin{array}{rrr}1.2 & -3 & 0\\\\ 10.1 & 6.23 & -0.22\\\\  5 & -6 & 3.441  \\end{array}  \\right]$\n",
    "\n",
    "The relevant respective commands are [hstack (h for horizontal)](https://numpy.org/doc/stable/reference/generated/numpy.hstack.html#numpy.hstack) and [vstack (v for vertical)](https://numpy.org/doc/stable/reference/generated/numpy.vstack.html).  For example:"
   ]
  },
  {
   "cell_type": "code",
   "execution_count": 18,
   "id": "32b65810",
   "metadata": {},
   "outputs": [
    {
     "name": "stdout",
     "output_type": "stream",
     "text": [
      "A is the matrix:\n",
      "\n",
      "[[0.19569001 0.24899315]\n",
      " [0.28683414 0.84527621]]\n",
      "\n",
      " B is the matrix:\n",
      "\n",
      "[[0.85637239 0.0788181 ]\n",
      " [0.59017202 0.51335087]]\n",
      "\n",
      " Stack A on top of B to obtain\n",
      "\n",
      "[[0.19569001 0.24899315]\n",
      " [0.28683414 0.84527621]\n",
      " [0.85637239 0.0788181 ]\n",
      " [0.59017202 0.51335087]]\n",
      "\n",
      " Stack B to the right of A to obtain\n",
      "\n",
      "[[0.19569001 0.24899315 0.85637239 0.0788181 ]\n",
      " [0.28683414 0.84527621 0.59017202 0.51335087]]\n"
     ]
    }
   ],
   "source": [
    "A = np.random.rand(2,2)\n",
    "B = np.random.rand(2,2)\n",
    "C = np.vstack((A,B))\n",
    "D = np.hstack((A,B))\n",
    "print('A is the matrix:\\n')\n",
    "print(A)\n",
    "print('\\n B is the matrix:\\n')\n",
    "print(B)\n",
    "print('\\n Stack A on top of B to obtain\\n')\n",
    "print(C)\n",
    "print('\\n Stack B to the right of A to obtain\\n')\n",
    "print(D)"
   ]
  },
  {
   "cell_type": "markdown",
   "id": "b145b464",
   "metadata": {},
   "source": [
    "### 3. Changing entries to a matrix\n",
    "Start with a random matrix"
   ]
  },
  {
   "cell_type": "code",
   "execution_count": 19,
   "id": "f598e566",
   "metadata": {},
   "outputs": [
    {
     "data": {
      "text/plain": [
       "array([[0.47658538, 0.26671074, 0.79914417, 0.50913493],\n",
       "       [0.34725241, 0.67478853, 0.30477116, 0.57336372],\n",
       "       [0.75423459, 0.53755104, 0.43547157, 0.60821212]])"
      ]
     },
     "execution_count": 19,
     "metadata": {},
     "output_type": "execute_result"
    }
   ],
   "source": [
    "A = np.random.rand(3,4)\n",
    "A"
   ]
  },
  {
   "cell_type": "markdown",
   "id": "ae211f4b",
   "metadata": {},
   "source": [
    "Change a single entry as follows"
   ]
  },
  {
   "cell_type": "code",
   "execution_count": 20,
   "id": "6b7c2bac",
   "metadata": {
    "scrolled": true
   },
   "outputs": [
    {
     "data": {
      "text/plain": [
       "array([[0.47658538, 0.26671074, 6.        , 0.50913493],\n",
       "       [0.34725241, 0.67478853, 0.30477116, 0.57336372],\n",
       "       [0.75423459, 0.53755104, 0.43547157, 0.60821212]])"
      ]
     },
     "execution_count": 20,
     "metadata": {},
     "output_type": "execute_result"
    }
   ],
   "source": [
    "A[0,2] = 6\n",
    "A"
   ]
  },
  {
   "cell_type": "markdown",
   "id": "2327be2a",
   "metadata": {},
   "source": [
    "We can also change entire submatrices.  For example, make the entire last column of A all zeros"
   ]
  },
  {
   "cell_type": "code",
   "execution_count": 21,
   "id": "17dd5048",
   "metadata": {},
   "outputs": [
    {
     "data": {
      "text/plain": [
       "array([[0.47658538, 0.26671074, 6.        , 0.        ],\n",
       "       [0.34725241, 0.67478853, 0.30477116, 0.        ],\n",
       "       [0.75423459, 0.53755104, 0.43547157, 0.        ]])"
      ]
     },
     "execution_count": 21,
     "metadata": {},
     "output_type": "execute_result"
    }
   ],
   "source": [
    "A[:,3:4] = np.zeros((3,1))\n",
    "A"
   ]
  },
  {
   "cell_type": "markdown",
   "id": "da8456f4",
   "metadata": {},
   "source": [
    "Or redefine a submatrix of A as anything you need"
   ]
  },
  {
   "cell_type": "code",
   "execution_count": 22,
   "id": "3c62c63a",
   "metadata": {},
   "outputs": [
    {
     "data": {
      "text/plain": [
       "array([[ 0.47658538,  0.26671074,  6.        ,  0.        ],\n",
       "       [-3.        ,  4.        ,  0.30477116,  0.        ],\n",
       "       [ 9.008     , 15.        ,  0.43547157,  0.        ]])"
      ]
     },
     "execution_count": 22,
     "metadata": {},
     "output_type": "execute_result"
    }
   ],
   "source": [
    "B = np.array([[-3,4],[9.008, 15]])\n",
    "A[1:3,0:2] = B\n",
    "A"
   ]
  },
  {
   "cell_type": "markdown",
   "id": "1b13d217",
   "metadata": {},
   "source": [
    "## C. The most common matrix functions"
   ]
  },
  {
   "cell_type": "markdown",
   "id": "62c01118",
   "metadata": {},
   "source": [
    "Start with the matrix $A = \\left[  \\begin{array}{rrr} 4 & 6 & -2\\\\ -1/2 & 3 & -12  \\end{array} \\right]$"
   ]
  },
  {
   "cell_type": "markdown",
   "id": "14460fdb",
   "metadata": {},
   "source": [
    "### 1. shape: \n",
    "Use the [shape](https://numpy.org/doc/stable/reference/generated/numpy.shape.html#numpy.shape) command to get the number of rows and columns of a matrix.  In particular\n",
    "m,n = A.shape will give the size of the matrix"
   ]
  },
  {
   "cell_type": "code",
   "execution_count": 23,
   "id": "870e3f09",
   "metadata": {},
   "outputs": [
    {
     "name": "stdout",
     "output_type": "stream",
     "text": [
      "2\n",
      "3\n",
      "(2, 3)\n"
     ]
    }
   ],
   "source": [
    "A = np.array([[4,6,-2],[-1/2, 3, -12]])\n",
    "m,n = A.shape\n",
    "print(m)\n",
    "print(n)\n",
    "print(A.shape)"
   ]
  },
  {
   "cell_type": "markdown",
   "id": "569745b0",
   "metadata": {},
   "source": [
    "### 2. Transpose\n",
    "\n",
    "[A.T](https://numpy.org/doc/stable/reference/generated/numpy.ndarray.T.html#numpy.ndarray.T) gives the transpose of A. Notice the size of the transpose"
   ]
  },
  {
   "cell_type": "code",
   "execution_count": 24,
   "id": "b4698717",
   "metadata": {},
   "outputs": [
    {
     "name": "stdout",
     "output_type": "stream",
     "text": [
      "[[  4.   -0.5]\n",
      " [  6.    3. ]\n",
      " [ -2.  -12. ]]\n",
      "(3, 2)\n"
     ]
    }
   ],
   "source": [
    "B = A.T\n",
    "print(B)\n",
    "print(B.shape)"
   ]
  },
  {
   "cell_type": "markdown",
   "id": "99f0f4aa",
   "metadata": {},
   "source": [
    "### 3. Multiplication\n",
    "The @ symbol is the most convenient way to perform matrix multiplication"
   ]
  },
  {
   "cell_type": "code",
   "execution_count": 25,
   "id": "0a012607",
   "metadata": {},
   "outputs": [
    {
     "name": "stdout",
     "output_type": "stream",
     "text": [
      "[[ 56.    40.  ]\n",
      " [ 40.   153.25]]\n",
      "\n",
      "\n",
      "[[ 16.25  22.5   -2.  ]\n",
      " [ 22.5   45.   -48.  ]\n",
      " [ -2.   -48.   148.  ]]\n",
      "\n",
      "\n",
      "The size of A@B is (2, 2) and the size of B@A is (3, 3)\n"
     ]
    }
   ],
   "source": [
    "C = A @ B\n",
    "D = B @ A\n",
    "print(C)\n",
    "print('\\n')\n",
    "print(D)\n",
    "print('\\n')\n",
    "print(f\"The size of A@B is {C.shape} and the size of B@A is {D.shape}\")"
   ]
  },
  {
   "cell_type": "markdown",
   "id": "9a7e0c29",
   "metadata": {},
   "source": [
    "### 4. Addition and scalar multiplication\n",
    "They are + and * respecitively"
   ]
  },
  {
   "cell_type": "code",
   "execution_count": 26,
   "id": "ea61da91",
   "metadata": {},
   "outputs": [
    {
     "name": "stdout",
     "output_type": "stream",
     "text": [
      "[[1. 0. 0. 0.]\n",
      " [0. 1. 0. 0.]\n",
      " [0. 0. 1. 0.]\n",
      " [0. 0. 0. 1.]]\n",
      "\n",
      "\n",
      "[[1. 1. 1. 1.]\n",
      " [1. 1. 1. 1.]\n",
      " [1. 1. 1. 1.]\n",
      " [1. 1. 1. 1.]]\n",
      "Add them together to obtain\n",
      "\n",
      "\n",
      "[[2. 1. 1. 1.]\n",
      " [1. 2. 1. 1.]\n",
      " [1. 1. 2. 1.]\n",
      " [1. 1. 1. 2.]]\n",
      "Scalar multiply the identity by 5 to obtain\n",
      "\n",
      "\n",
      "[[5. 0. 0. 0.]\n",
      " [0. 5. 0. 0.]\n",
      " [0. 0. 5. 0.]\n",
      " [0. 0. 0. 5.]]\n"
     ]
    }
   ],
   "source": [
    "print(np.eye(4))\n",
    "print('\\n')\n",
    "print(np.ones((4,4)))\n",
    "print('Add them together to obtain')\n",
    "print('\\n')\n",
    "print(np.eye(4) + np.ones((4,4)))\n",
    "print('Scalar multiply the identity by 5 to obtain')\n",
    "print('\\n')\n",
    "print(5*np.eye(4))"
   ]
  },
  {
   "cell_type": "markdown",
   "id": "f089e7e6",
   "metadata": {},
   "source": [
    "### 5. [allclose](https://numpy.org/doc/stable/reference/generated/numpy.allclose.html#numpy-allclose)\n",
    "Now for some computing realities. Due to round off error we will accept that matrices that are 'close' are equal.  We use np.allclose to acheive this. The term 'close' is relative but for our purposes the default value of close ($10^{-8}$) will suffice. np.allclose(A,B) returns True if the matrices A and B are elementwise within $10^{-8}$ of each other. Here are some examples"
   ]
  },
  {
   "cell_type": "code",
   "execution_count": 27,
   "id": "51cc809c",
   "metadata": {},
   "outputs": [
    {
     "name": "stdout",
     "output_type": "stream",
     "text": [
      "[[0.28566947 0.29103177]\n",
      " [0.50037615 0.61858133]]\n",
      "[[0.86444301 0.74790894]\n",
      " [0.11521284 0.43463524]]\n"
     ]
    },
    {
     "data": {
      "text/plain": [
       "False"
      ]
     },
     "execution_count": 27,
     "metadata": {},
     "output_type": "execute_result"
    }
   ],
   "source": [
    "A = np.random.rand(2,2)\n",
    "B = np.random.rand(2,2)\n",
    "print(A)\n",
    "print(B)\n",
    "np.allclose(A,B)"
   ]
  },
  {
   "cell_type": "markdown",
   "id": "6eda2fb4",
   "metadata": {},
   "source": [
    "The command A == B gives a truth valued matrix.  The (i,j) entry of A == B is 'True' if A[i,j] = B[i,j] and 'False' otherwise. That is too rigid for most purposes.  For example"
   ]
  },
  {
   "cell_type": "code",
   "execution_count": 28,
   "id": "01f84dd1",
   "metadata": {},
   "outputs": [
    {
     "name": "stdout",
     "output_type": "stream",
     "text": [
      "[[0. 0.]\n",
      " [0. 0.]]\n",
      "[[1.e-10 0.e+00]\n",
      " [1.e-10 1.e-11]]\n",
      "[[False  True]\n",
      " [False False]]\n"
     ]
    }
   ],
   "source": [
    "A = np.zeros((2,2))\n",
    "B = np.array([[0.0000000001,0],[0.0000000001,0.00000000001]])\n",
    "print(A)\n",
    "print(B)\n",
    "print(A == B)"
   ]
  },
  {
   "cell_type": "markdown",
   "id": "a937e107",
   "metadata": {},
   "source": [
    "But np.allclose is more flexible and useful for computational linear algebra"
   ]
  },
  {
   "cell_type": "code",
   "execution_count": 29,
   "id": "4e71b92a",
   "metadata": {},
   "outputs": [
    {
     "data": {
      "text/plain": [
       "True"
      ]
     },
     "execution_count": 29,
     "metadata": {},
     "output_type": "execute_result"
    }
   ],
   "source": [
    "np.allclose(A,B)"
   ]
  }
 ],
 "metadata": {
  "kernelspec": {
   "display_name": "Python 3 (ipykernel)",
   "language": "python",
   "name": "python3"
  },
  "language_info": {
   "codemirror_mode": {
    "name": "ipython",
    "version": 3
   },
   "file_extension": ".py",
   "mimetype": "text/x-python",
   "name": "python",
   "nbconvert_exporter": "python",
   "pygments_lexer": "ipython3",
   "version": "3.10.12"
  }
 },
 "nbformat": 4,
 "nbformat_minor": 5
}
