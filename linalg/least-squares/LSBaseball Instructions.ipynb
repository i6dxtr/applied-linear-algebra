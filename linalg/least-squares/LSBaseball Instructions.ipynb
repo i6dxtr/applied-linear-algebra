{
 "cells": [
  {
   "cell_type": "markdown",
   "id": "8d3d1940",
   "metadata": {},
   "source": [
    "# Least Squares"
   ]
  },
  {
   "cell_type": "code",
   "execution_count": 2,
   "id": "1729d8fd",
   "metadata": {},
   "outputs": [],
   "source": [
    "import numpy as np\n",
    "import pandas as pd"
   ]
  },
  {
   "cell_type": "markdown",
   "id": "c71e6dfd",
   "metadata": {},
   "source": [
    "In lecture we considered a special case of this (where the mean of b is 0) here is the full story.  Suppose you are solving a least squares problem $\\min_x \\| Ax-b  \\|$ and $x_0$ is the unique solution. The error term $\\| Ax_0 - b  \\|$ describes how far off you are. In isolation this error term is basically meaningless, but when correctly normalized it contains valuable information.  Define the sum-squared error (SSE) as\n",
    "\n",
    "$ \\text{SSE} = \\| Ax_0 - b \\|^2  $\n",
    "\n",
    "and the total sum of squares (SSTO) as\n",
    "\n",
    "$\\text{SSTO} = \\| b \\|^2 - \\frac{1}{n}b^T\\text{np.ones}((n,n))b$ where $n,1$ = b.shape\n",
    "\n",
    "Finally define $R^2 = 1 - \\frac{\\text{SSE}}{\\text{SSTO}}$\n",
    "\n",
    "Remark:  If the mean of b is 0 then SSTO reduces to $\\| b \\|^2.$  The extra term in the general case takes into account the fact that the mean may not be 0.\n",
    "\n",
    "Although not totally obvious we always have $0\\leq R^2\\leq 1$ (it's an exercise you could do).  Roughly speaking, but not always correct, the higher the $R^2$ the better the job our linear model does to predict the outcome.  A rough interpretation of $R^2$ as a percentage: Say $R^2=.73$, then the model accounts for $73$% of the variance in the data. \n",
    "\n",
    "These rough interpretations are all we will need for this assignment--for more information take a course on linear regression or read a book about it, like this [one](https://books.google.com/books/about/Applied_Linear_Regression_Models.html?id=2sl_QgAACAAJ) that is pretty easy to find online."
   ]
  },
  {
   "cell_type": "markdown",
   "id": "8383e3d3",
   "metadata": {},
   "source": [
    "### Global variables\n",
    "\n",
    "We define the global variables dfr and dfo outside of your functions but you will reference them inside of your functions. We differentiate these from *local* variables that you define inside of your functions. In general global variables are discouraged but in this case it makes sense so you don't have to import large files every time you want to access them in a function."
   ]
  },
  {
   "cell_type": "code",
   "execution_count": null,
   "id": "552762cd",
   "metadata": {},
   "outputs": [],
   "source": [
    "dfr = pd.read_csv('retro.csv')\n",
    "dfo = pd.read_csv('offense.csv')"
   ]
  },
  {
   "cell_type": "code",
   "execution_count": null,
   "id": "7c234f7d",
   "metadata": {},
   "outputs": [],
   "source": [
    "def lin_weights(year,park):  #You are calculating 'linear weights', hence the name\n",
    "    \"\"\"Calculates linear weights for year and park\n",
    "    \n",
    "       Use least squares to calculate a 1x7 array b that best \n",
    "       approximates b[0] + BB*b[1] + 1B*b[2] + 2B*b[3] + 3B*b[4] + HR*b[5] = runs\n",
    "       for the given year and park.  The final entry b[6] is the R^2 value \n",
    "       (see the above cell on how to calculate R^2).\n",
    "       \n",
    "       Parameters\n",
    "       ----------\n",
    "       year : int\n",
    "       park : string\n",
    "           year corresponds to the 'year' heading in dfr\n",
    "           park correspond to the 'ParkID' heading in dfr\n",
    "           \n",
    "       Returns\n",
    "       -------\n",
    "       1x6 numpy array (We don't care about b[0] so don't return it)\n",
    "        \n",
    "    \"\"\"\n",
    "    pass\n",
    "    #Use the global variable dfr inside of your function"
   ]
  },
  {
   "cell_type": "markdown",
   "id": "25764c74",
   "metadata": {},
   "source": [
    "Test!!! Many years and many parks. Do your values make sense?  You should expect R^2 values roughly in the .65-.8 range."
   ]
  },
  {
   "cell_type": "markdown",
   "id": "2a211af8",
   "metadata": {},
   "source": [
    "# Use lin_weights to make a report"
   ]
  },
  {
   "cell_type": "markdown",
   "id": "183c4414",
   "metadata": {},
   "source": [
    "Choose a ParkID and a ten-year span (Not all parks exist in every 10 year span!).  You will record the linear weight of 'BB', '1B', etc over the span of that 10 year period in that park and produce a csv file with this information. \n",
    "\n",
    "Create a DataFrame that has columns: year, BB,1B,2B,3B,HR and in each row lists the year and the corresponding linear weight.\n",
    "\n",
    "Then save your DataFrame as a csv file that has the name of your park in the filename.  All of this code should go into a function.\n",
    "\n",
    "Hardcoding is to be expected in this function"
   ]
  },
  {
   "cell_type": "code",
   "execution_count": 3,
   "id": "206b0b5e",
   "metadata": {},
   "outputs": [
    {
     "data": {
      "text/html": [
       "<div>\n",
       "<style scoped>\n",
       "    .dataframe tbody tr th:only-of-type {\n",
       "        vertical-align: middle;\n",
       "    }\n",
       "\n",
       "    .dataframe tbody tr th {\n",
       "        vertical-align: top;\n",
       "    }\n",
       "\n",
       "    .dataframe thead th {\n",
       "        text-align: right;\n",
       "    }\n",
       "</style>\n",
       "<table border=\"1\" class=\"dataframe\">\n",
       "  <thead>\n",
       "    <tr style=\"text-align: right;\">\n",
       "      <th></th>\n",
       "      <th>BB</th>\n",
       "      <th>HR</th>\n",
       "    </tr>\n",
       "  </thead>\n",
       "  <tbody>\n",
       "    <tr>\n",
       "      <th>0</th>\n",
       "      <td>0.957960</td>\n",
       "      <td>0.595174</td>\n",
       "    </tr>\n",
       "    <tr>\n",
       "      <th>1</th>\n",
       "      <td>0.977735</td>\n",
       "      <td>0.723081</td>\n",
       "    </tr>\n",
       "    <tr>\n",
       "      <th>2</th>\n",
       "      <td>0.699355</td>\n",
       "      <td>0.769470</td>\n",
       "    </tr>\n",
       "    <tr>\n",
       "      <th>3</th>\n",
       "      <td>0.255901</td>\n",
       "      <td>0.461769</td>\n",
       "    </tr>\n",
       "    <tr>\n",
       "      <th>4</th>\n",
       "      <td>0.555207</td>\n",
       "      <td>0.766835</td>\n",
       "    </tr>\n",
       "  </tbody>\n",
       "</table>\n",
       "</div>"
      ],
      "text/plain": [
       "         BB        HR\n",
       "0  0.957960  0.595174\n",
       "1  0.977735  0.723081\n",
       "2  0.699355  0.769470\n",
       "3  0.255901  0.461769\n",
       "4  0.555207  0.766835"
      ]
     },
     "execution_count": 3,
     "metadata": {},
     "output_type": "execute_result"
    }
   ],
   "source": [
    "#This example might be helpful in making the DataFrame of your report!\n",
    "#I should have put it in the video tutorial!\n",
    "my_columns = ['BB','HR']\n",
    "my_array = np.random.rand(5,2)\n",
    "my_df = pd.DataFrame(my_array,columns=my_columns)\n",
    "my_df"
   ]
  },
  {
   "cell_type": "code",
   "execution_count": null,
   "id": "793934e1",
   "metadata": {},
   "outputs": [],
   "source": [
    "def make_park_report():\n",
    "    pass"
   ]
  },
  {
   "cell_type": "markdown",
   "id": "9ca73319",
   "metadata": {},
   "source": [
    "I'll will run your function make_report() and it should spit out the csv report."
   ]
  },
  {
   "cell_type": "markdown",
   "id": "61b3ae66",
   "metadata": {},
   "source": [
    "# Use lin_weights to assign \"context free\" credit to each player for how "
   ]
  },
  {
   "cell_type": "markdown",
   "id": "351cb0be",
   "metadata": {},
   "source": [
    "Choose a ball park that existed in 2023. Make it a different one than the one you chose in the previous report.  Use lin_weights to estimate how many runs each player from 2023 would score in your ball park. This can be acheived with one matrix multiplication--no loops!\n",
    "\n",
    "Create a DataFrame that has two columns: 'Name' and 'runs'. In each row it records the name of the player and the corresponding estimated runs.\n",
    "\n",
    "Then save your DataFrame as a csv file that has the name of your park in the filename.  All of this code should go into a function.\n",
    "\n",
    "Hardcoding is to be expected in this function"
   ]
  },
  {
   "cell_type": "code",
   "execution_count": null,
   "id": "86b2308d",
   "metadata": {},
   "outputs": [],
   "source": [
    "def make_player_report():\n",
    "    #Uses the global variable dff inside your function\n",
    "    pass"
   ]
  },
  {
   "cell_type": "markdown",
   "id": "cc67a18c",
   "metadata": {},
   "source": [
    "# Tutorial Follow-along"
   ]
  },
  {
   "cell_type": "code",
   "execution_count": 3,
   "id": "dd396685",
   "metadata": {},
   "outputs": [],
   "source": [
    "df=pd.read_csv('retro.csv')"
   ]
  },
  {
   "cell_type": "code",
   "execution_count": 4,
   "id": "e522cc33",
   "metadata": {},
   "outputs": [
    {
     "data": {
      "text/plain": [
       "(181832, 15)"
      ]
     },
     "execution_count": 4,
     "metadata": {},
     "output_type": "execute_result"
    }
   ],
   "source": [
    "df.shape"
   ]
  },
  {
   "cell_type": "code",
   "execution_count": 5,
   "id": "0834410e",
   "metadata": {},
   "outputs": [
    {
     "data": {
      "text/html": [
       "<div>\n",
       "<style scoped>\n",
       "    .dataframe tbody tr th:only-of-type {\n",
       "        vertical-align: middle;\n",
       "    }\n",
       "\n",
       "    .dataframe tbody tr th {\n",
       "        vertical-align: top;\n",
       "    }\n",
       "\n",
       "    .dataframe thead th {\n",
       "        text-align: right;\n",
       "    }\n",
       "</style>\n",
       "<table border=\"1\" class=\"dataframe\">\n",
       "  <thead>\n",
       "    <tr style=\"text-align: right;\">\n",
       "      <th></th>\n",
       "      <th>Unnamed: 0</th>\n",
       "      <th>year</th>\n",
       "      <th>runs</th>\n",
       "      <th>1B</th>\n",
       "      <th>2B</th>\n",
       "      <th>3B</th>\n",
       "      <th>HR</th>\n",
       "      <th>HBP</th>\n",
       "      <th>BB</th>\n",
       "      <th>IBB</th>\n",
       "      <th>SO</th>\n",
       "      <th>SB</th>\n",
       "      <th>CS</th>\n",
       "      <th>GDP</th>\n",
       "      <th>ParkID</th>\n",
       "    </tr>\n",
       "  </thead>\n",
       "  <tbody>\n",
       "    <tr>\n",
       "      <th>0</th>\n",
       "      <td>0</td>\n",
       "      <td>1984</td>\n",
       "      <td>5</td>\n",
       "      <td>6</td>\n",
       "      <td>1</td>\n",
       "      <td>0</td>\n",
       "      <td>0</td>\n",
       "      <td>0</td>\n",
       "      <td>6</td>\n",
       "      <td>2</td>\n",
       "      <td>7</td>\n",
       "      <td>1</td>\n",
       "      <td>0</td>\n",
       "      <td>0</td>\n",
       "      <td>BAL11</td>\n",
       "    </tr>\n",
       "    <tr>\n",
       "      <th>1</th>\n",
       "      <td>1</td>\n",
       "      <td>1984</td>\n",
       "      <td>2</td>\n",
       "      <td>6</td>\n",
       "      <td>1</td>\n",
       "      <td>0</td>\n",
       "      <td>1</td>\n",
       "      <td>0</td>\n",
       "      <td>1</td>\n",
       "      <td>0</td>\n",
       "      <td>4</td>\n",
       "      <td>0</td>\n",
       "      <td>0</td>\n",
       "      <td>0</td>\n",
       "      <td>BAL11</td>\n",
       "    </tr>\n",
       "    <tr>\n",
       "      <th>2</th>\n",
       "      <td>2</td>\n",
       "      <td>1984</td>\n",
       "      <td>1</td>\n",
       "      <td>5</td>\n",
       "      <td>1</td>\n",
       "      <td>0</td>\n",
       "      <td>0</td>\n",
       "      <td>0</td>\n",
       "      <td>0</td>\n",
       "      <td>0</td>\n",
       "      <td>8</td>\n",
       "      <td>0</td>\n",
       "      <td>1</td>\n",
       "      <td>0</td>\n",
       "      <td>ANA01</td>\n",
       "    </tr>\n",
       "    <tr>\n",
       "      <th>3</th>\n",
       "      <td>3</td>\n",
       "      <td>1984</td>\n",
       "      <td>2</td>\n",
       "      <td>5</td>\n",
       "      <td>1</td>\n",
       "      <td>0</td>\n",
       "      <td>0</td>\n",
       "      <td>0</td>\n",
       "      <td>3</td>\n",
       "      <td>1</td>\n",
       "      <td>4</td>\n",
       "      <td>0</td>\n",
       "      <td>0</td>\n",
       "      <td>0</td>\n",
       "      <td>ANA01</td>\n",
       "    </tr>\n",
       "    <tr>\n",
       "      <th>4</th>\n",
       "      <td>4</td>\n",
       "      <td>1984</td>\n",
       "      <td>1</td>\n",
       "      <td>6</td>\n",
       "      <td>0</td>\n",
       "      <td>0</td>\n",
       "      <td>1</td>\n",
       "      <td>1</td>\n",
       "      <td>1</td>\n",
       "      <td>0</td>\n",
       "      <td>8</td>\n",
       "      <td>0</td>\n",
       "      <td>1</td>\n",
       "      <td>0</td>\n",
       "      <td>CIN08</td>\n",
       "    </tr>\n",
       "  </tbody>\n",
       "</table>\n",
       "</div>"
      ],
      "text/plain": [
       "   Unnamed: 0  year  runs  1B  2B  3B  HR  HBP  BB  IBB  SO  SB  CS  GDP  \\\n",
       "0           0  1984     5   6   1   0   0    0   6    2   7   1   0    0   \n",
       "1           1  1984     2   6   1   0   1    0   1    0   4   0   0    0   \n",
       "2           2  1984     1   5   1   0   0    0   0    0   8   0   1    0   \n",
       "3           3  1984     2   5   1   0   0    0   3    1   4   0   0    0   \n",
       "4           4  1984     1   6   0   0   1    1   1    0   8   0   1    0   \n",
       "\n",
       "  ParkID  \n",
       "0  BAL11  \n",
       "1  BAL11  \n",
       "2  ANA01  \n",
       "3  ANA01  \n",
       "4  CIN08  "
      ]
     },
     "execution_count": 5,
     "metadata": {},
     "output_type": "execute_result"
    }
   ],
   "source": [
    "df.head()"
   ]
  },
  {
   "cell_type": "code",
   "execution_count": 8,
   "id": "46e08f80",
   "metadata": {},
   "outputs": [],
   "source": [
    "# Grabs all values in column 'SO' with value greater than or equal to 7\n",
    "df1=df.loc[df['SO']<=7]"
   ]
  },
  {
   "cell_type": "code",
   "execution_count": 10,
   "id": "4eff1e85",
   "metadata": {},
   "outputs": [
    {
     "data": {
      "text/html": [
       "<div>\n",
       "<style scoped>\n",
       "    .dataframe tbody tr th:only-of-type {\n",
       "        vertical-align: middle;\n",
       "    }\n",
       "\n",
       "    .dataframe tbody tr th {\n",
       "        vertical-align: top;\n",
       "    }\n",
       "\n",
       "    .dataframe thead th {\n",
       "        text-align: right;\n",
       "    }\n",
       "</style>\n",
       "<table border=\"1\" class=\"dataframe\">\n",
       "  <thead>\n",
       "    <tr style=\"text-align: right;\">\n",
       "      <th></th>\n",
       "      <th>Unnamed: 0</th>\n",
       "      <th>year</th>\n",
       "      <th>runs</th>\n",
       "      <th>1B</th>\n",
       "      <th>2B</th>\n",
       "      <th>3B</th>\n",
       "      <th>HR</th>\n",
       "      <th>HBP</th>\n",
       "      <th>BB</th>\n",
       "      <th>IBB</th>\n",
       "      <th>SO</th>\n",
       "      <th>SB</th>\n",
       "      <th>CS</th>\n",
       "      <th>GDP</th>\n",
       "      <th>ParkID</th>\n",
       "    </tr>\n",
       "  </thead>\n",
       "  <tbody>\n",
       "    <tr>\n",
       "      <th>0</th>\n",
       "      <td>0</td>\n",
       "      <td>1984</td>\n",
       "      <td>5</td>\n",
       "      <td>6</td>\n",
       "      <td>1</td>\n",
       "      <td>0</td>\n",
       "      <td>0</td>\n",
       "      <td>0</td>\n",
       "      <td>6</td>\n",
       "      <td>2</td>\n",
       "      <td>7</td>\n",
       "      <td>1</td>\n",
       "      <td>0</td>\n",
       "      <td>0</td>\n",
       "      <td>BAL11</td>\n",
       "    </tr>\n",
       "    <tr>\n",
       "      <th>1</th>\n",
       "      <td>1</td>\n",
       "      <td>1984</td>\n",
       "      <td>2</td>\n",
       "      <td>6</td>\n",
       "      <td>1</td>\n",
       "      <td>0</td>\n",
       "      <td>1</td>\n",
       "      <td>0</td>\n",
       "      <td>1</td>\n",
       "      <td>0</td>\n",
       "      <td>4</td>\n",
       "      <td>0</td>\n",
       "      <td>0</td>\n",
       "      <td>0</td>\n",
       "      <td>BAL11</td>\n",
       "    </tr>\n",
       "    <tr>\n",
       "      <th>3</th>\n",
       "      <td>3</td>\n",
       "      <td>1984</td>\n",
       "      <td>2</td>\n",
       "      <td>5</td>\n",
       "      <td>1</td>\n",
       "      <td>0</td>\n",
       "      <td>0</td>\n",
       "      <td>0</td>\n",
       "      <td>3</td>\n",
       "      <td>1</td>\n",
       "      <td>4</td>\n",
       "      <td>0</td>\n",
       "      <td>0</td>\n",
       "      <td>0</td>\n",
       "      <td>ANA01</td>\n",
       "    </tr>\n",
       "    <tr>\n",
       "      <th>5</th>\n",
       "      <td>5</td>\n",
       "      <td>1984</td>\n",
       "      <td>8</td>\n",
       "      <td>5</td>\n",
       "      <td>5</td>\n",
       "      <td>0</td>\n",
       "      <td>2</td>\n",
       "      <td>0</td>\n",
       "      <td>2</td>\n",
       "      <td>0</td>\n",
       "      <td>3</td>\n",
       "      <td>1</td>\n",
       "      <td>0</td>\n",
       "      <td>1</td>\n",
       "      <td>CIN08</td>\n",
       "    </tr>\n",
       "    <tr>\n",
       "      <th>6</th>\n",
       "      <td>6</td>\n",
       "      <td>1984</td>\n",
       "      <td>2</td>\n",
       "      <td>2</td>\n",
       "      <td>0</td>\n",
       "      <td>0</td>\n",
       "      <td>1</td>\n",
       "      <td>0</td>\n",
       "      <td>1</td>\n",
       "      <td>0</td>\n",
       "      <td>4</td>\n",
       "      <td>0</td>\n",
       "      <td>1</td>\n",
       "      <td>0</td>\n",
       "      <td>KAN06</td>\n",
       "    </tr>\n",
       "  </tbody>\n",
       "</table>\n",
       "</div>"
      ],
      "text/plain": [
       "   Unnamed: 0  year  runs  1B  2B  3B  HR  HBP  BB  IBB  SO  SB  CS  GDP  \\\n",
       "0           0  1984     5   6   1   0   0    0   6    2   7   1   0    0   \n",
       "1           1  1984     2   6   1   0   1    0   1    0   4   0   0    0   \n",
       "3           3  1984     2   5   1   0   0    0   3    1   4   0   0    0   \n",
       "5           5  1984     8   5   5   0   2    0   2    0   3   1   0    1   \n",
       "6           6  1984     2   2   0   0   1    0   1    0   4   0   1    0   \n",
       "\n",
       "  ParkID  \n",
       "0  BAL11  \n",
       "1  BAL11  \n",
       "3  ANA01  \n",
       "5  CIN08  \n",
       "6  KAN06  "
      ]
     },
     "execution_count": 10,
     "metadata": {},
     "output_type": "execute_result"
    }
   ],
   "source": [
    "df1.head()\n"
   ]
  },
  {
   "cell_type": "code",
   "execution_count": 12,
   "id": "ccd7f6a2",
   "metadata": {},
   "outputs": [],
   "source": [
    "# Grabs all rows with parkID cols equal to CIN09 and year cols greater than 2021 \n",
    "df2=df.loc[(df['ParkID']=='CIN09') & (df['year']>2021)]"
   ]
  },
  {
   "cell_type": "code",
   "execution_count": 13,
   "id": "cad654d8",
   "metadata": {},
   "outputs": [
    {
     "data": {
      "text/html": [
       "<div>\n",
       "<style scoped>\n",
       "    .dataframe tbody tr th:only-of-type {\n",
       "        vertical-align: middle;\n",
       "    }\n",
       "\n",
       "    .dataframe tbody tr th {\n",
       "        vertical-align: top;\n",
       "    }\n",
       "\n",
       "    .dataframe thead th {\n",
       "        text-align: right;\n",
       "    }\n",
       "</style>\n",
       "<table border=\"1\" class=\"dataframe\">\n",
       "  <thead>\n",
       "    <tr style=\"text-align: right;\">\n",
       "      <th></th>\n",
       "      <th>Unnamed: 0</th>\n",
       "      <th>year</th>\n",
       "      <th>runs</th>\n",
       "      <th>1B</th>\n",
       "      <th>2B</th>\n",
       "      <th>3B</th>\n",
       "      <th>HR</th>\n",
       "      <th>HBP</th>\n",
       "      <th>BB</th>\n",
       "      <th>IBB</th>\n",
       "      <th>SO</th>\n",
       "      <th>SB</th>\n",
       "      <th>CS</th>\n",
       "      <th>GDP</th>\n",
       "      <th>ParkID</th>\n",
       "    </tr>\n",
       "  </thead>\n",
       "  <tbody>\n",
       "    <tr>\n",
       "      <th>172250</th>\n",
       "      <td>172250</td>\n",
       "      <td>2022</td>\n",
       "      <td>10</td>\n",
       "      <td>4</td>\n",
       "      <td>3</td>\n",
       "      <td>2</td>\n",
       "      <td>2</td>\n",
       "      <td>1</td>\n",
       "      <td>5</td>\n",
       "      <td>0</td>\n",
       "      <td>8</td>\n",
       "      <td>1</td>\n",
       "      <td>3</td>\n",
       "      <td>0</td>\n",
       "      <td>CIN09</td>\n",
       "    </tr>\n",
       "    <tr>\n",
       "      <th>172251</th>\n",
       "      <td>172251</td>\n",
       "      <td>2022</td>\n",
       "      <td>5</td>\n",
       "      <td>1</td>\n",
       "      <td>3</td>\n",
       "      <td>0</td>\n",
       "      <td>1</td>\n",
       "      <td>0</td>\n",
       "      <td>3</td>\n",
       "      <td>0</td>\n",
       "      <td>8</td>\n",
       "      <td>0</td>\n",
       "      <td>0</td>\n",
       "      <td>2</td>\n",
       "      <td>CIN09</td>\n",
       "    </tr>\n",
       "    <tr>\n",
       "      <th>172280</th>\n",
       "      <td>172280</td>\n",
       "      <td>2022</td>\n",
       "      <td>7</td>\n",
       "      <td>7</td>\n",
       "      <td>2</td>\n",
       "      <td>0</td>\n",
       "      <td>4</td>\n",
       "      <td>2</td>\n",
       "      <td>4</td>\n",
       "      <td>0</td>\n",
       "      <td>10</td>\n",
       "      <td>1</td>\n",
       "      <td>0</td>\n",
       "      <td>0</td>\n",
       "      <td>CIN09</td>\n",
       "    </tr>\n",
       "    <tr>\n",
       "      <th>172281</th>\n",
       "      <td>172281</td>\n",
       "      <td>2022</td>\n",
       "      <td>3</td>\n",
       "      <td>3</td>\n",
       "      <td>2</td>\n",
       "      <td>0</td>\n",
       "      <td>2</td>\n",
       "      <td>2</td>\n",
       "      <td>0</td>\n",
       "      <td>0</td>\n",
       "      <td>12</td>\n",
       "      <td>1</td>\n",
       "      <td>0</td>\n",
       "      <td>0</td>\n",
       "      <td>CIN09</td>\n",
       "    </tr>\n",
       "    <tr>\n",
       "      <th>172516</th>\n",
       "      <td>172516</td>\n",
       "      <td>2022</td>\n",
       "      <td>4</td>\n",
       "      <td>10</td>\n",
       "      <td>0</td>\n",
       "      <td>0</td>\n",
       "      <td>0</td>\n",
       "      <td>1</td>\n",
       "      <td>6</td>\n",
       "      <td>0</td>\n",
       "      <td>7</td>\n",
       "      <td>0</td>\n",
       "      <td>0</td>\n",
       "      <td>1</td>\n",
       "      <td>CIN09</td>\n",
       "    </tr>\n",
       "  </tbody>\n",
       "</table>\n",
       "</div>"
      ],
      "text/plain": [
       "        Unnamed: 0  year  runs  1B  2B  3B  HR  HBP  BB  IBB  SO  SB  CS  GDP  \\\n",
       "172250      172250  2022    10   4   3   2   2    1   5    0   8   1   3    0   \n",
       "172251      172251  2022     5   1   3   0   1    0   3    0   8   0   0    2   \n",
       "172280      172280  2022     7   7   2   0   4    2   4    0  10   1   0    0   \n",
       "172281      172281  2022     3   3   2   0   2    2   0    0  12   1   0    0   \n",
       "172516      172516  2022     4  10   0   0   0    1   6    0   7   0   0    1   \n",
       "\n",
       "       ParkID  \n",
       "172250  CIN09  \n",
       "172251  CIN09  \n",
       "172280  CIN09  \n",
       "172281  CIN09  \n",
       "172516  CIN09  "
      ]
     },
     "execution_count": 13,
     "metadata": {},
     "output_type": "execute_result"
    }
   ],
   "source": [
    "df2.head()"
   ]
  },
  {
   "cell_type": "code",
   "execution_count": 14,
   "id": "fe4b8dcd",
   "metadata": {},
   "outputs": [
    {
     "data": {
      "text/plain": [
       "(320, 15)"
      ]
     },
     "execution_count": 14,
     "metadata": {},
     "output_type": "execute_result"
    }
   ],
   "source": [
    "df2.shape"
   ]
  },
  {
   "cell_type": "code",
   "execution_count": 15,
   "id": "6e893cf0",
   "metadata": {},
   "outputs": [],
   "source": [
    "cols=['SO', 'SB', 'CS']"
   ]
  },
  {
   "cell_type": "code",
   "execution_count": 16,
   "id": "72e1e60c",
   "metadata": {},
   "outputs": [],
   "source": [
    "# Grabs all the rows and displays only the columns listed in 'cols'\n",
    "df3=df.loc[:, cols]"
   ]
  },
  {
   "cell_type": "code",
   "execution_count": 17,
   "id": "adfa18d8",
   "metadata": {},
   "outputs": [
    {
     "data": {
      "text/html": [
       "<div>\n",
       "<style scoped>\n",
       "    .dataframe tbody tr th:only-of-type {\n",
       "        vertical-align: middle;\n",
       "    }\n",
       "\n",
       "    .dataframe tbody tr th {\n",
       "        vertical-align: top;\n",
       "    }\n",
       "\n",
       "    .dataframe thead th {\n",
       "        text-align: right;\n",
       "    }\n",
       "</style>\n",
       "<table border=\"1\" class=\"dataframe\">\n",
       "  <thead>\n",
       "    <tr style=\"text-align: right;\">\n",
       "      <th></th>\n",
       "      <th>SO</th>\n",
       "      <th>SB</th>\n",
       "      <th>CS</th>\n",
       "    </tr>\n",
       "  </thead>\n",
       "  <tbody>\n",
       "    <tr>\n",
       "      <th>0</th>\n",
       "      <td>7</td>\n",
       "      <td>1</td>\n",
       "      <td>0</td>\n",
       "    </tr>\n",
       "    <tr>\n",
       "      <th>1</th>\n",
       "      <td>4</td>\n",
       "      <td>0</td>\n",
       "      <td>0</td>\n",
       "    </tr>\n",
       "    <tr>\n",
       "      <th>2</th>\n",
       "      <td>8</td>\n",
       "      <td>0</td>\n",
       "      <td>1</td>\n",
       "    </tr>\n",
       "    <tr>\n",
       "      <th>3</th>\n",
       "      <td>4</td>\n",
       "      <td>0</td>\n",
       "      <td>0</td>\n",
       "    </tr>\n",
       "    <tr>\n",
       "      <th>4</th>\n",
       "      <td>8</td>\n",
       "      <td>0</td>\n",
       "      <td>1</td>\n",
       "    </tr>\n",
       "  </tbody>\n",
       "</table>\n",
       "</div>"
      ],
      "text/plain": [
       "   SO  SB  CS\n",
       "0   7   1   0\n",
       "1   4   0   0\n",
       "2   8   0   1\n",
       "3   4   0   0\n",
       "4   8   0   1"
      ]
     },
     "execution_count": 17,
     "metadata": {},
     "output_type": "execute_result"
    }
   ],
   "source": [
    "df3.head()"
   ]
  },
  {
   "cell_type": "code",
   "execution_count": 18,
   "id": "6ed2c2bf",
   "metadata": {},
   "outputs": [
    {
     "data": {
      "text/plain": [
       "(181832, 3)"
      ]
     },
     "execution_count": 18,
     "metadata": {},
     "output_type": "execute_result"
    }
   ],
   "source": [
    "df3.shape"
   ]
  },
  {
   "cell_type": "markdown",
   "id": "024050c7",
   "metadata": {},
   "source": [
    "### Extracting a numpy array"
   ]
  },
  {
   "cell_type": "code",
   "execution_count": 19,
   "id": "31c89ae3",
   "metadata": {},
   "outputs": [],
   "source": [
    "# export above as a numpy array for use in image processing\n",
    "df3_array=np.array(df3, dtype=np.float64)"
   ]
  },
  {
   "cell_type": "code",
   "execution_count": null,
   "id": "9306b5bd",
   "metadata": {},
   "outputs": [],
   "source": [
    "# initialized with rows 1-5 and includes all columns\n",
    "df3_array[0:5, :]"
   ]
  },
  {
   "cell_type": "code",
   "execution_count": 20,
   "id": "b083659d",
   "metadata": {},
   "outputs": [
    {
     "data": {
      "text/plain": [
       "array([[ 7.,  1.,  0.],\n",
       "       [ 4.,  0.,  0.],\n",
       "       [ 8.,  0.,  1.],\n",
       "       ...,\n",
       "       [10.,  0.,  0.],\n",
       "       [ 9.,  2.,  0.],\n",
       "       [ 7.,  0.,  0.]])"
      ]
     },
     "execution_count": 20,
     "metadata": {},
     "output_type": "execute_result"
    }
   ],
   "source": [
    "df3_array"
   ]
  },
  {
   "cell_type": "markdown",
   "id": "a35a8c95",
   "metadata": {},
   "source": [
    "### Augment dataframes and export"
   ]
  },
  {
   "cell_type": "code",
   "execution_count": 22,
   "id": "7e1ff5d5",
   "metadata": {},
   "outputs": [
    {
     "data": {
      "text/html": [
       "<div>\n",
       "<style scoped>\n",
       "    .dataframe tbody tr th:only-of-type {\n",
       "        vertical-align: middle;\n",
       "    }\n",
       "\n",
       "    .dataframe tbody tr th {\n",
       "        vertical-align: top;\n",
       "    }\n",
       "\n",
       "    .dataframe thead th {\n",
       "        text-align: right;\n",
       "    }\n",
       "</style>\n",
       "<table border=\"1\" class=\"dataframe\">\n",
       "  <thead>\n",
       "    <tr style=\"text-align: right;\">\n",
       "      <th></th>\n",
       "      <th>SO</th>\n",
       "      <th>SB</th>\n",
       "      <th>CS</th>\n",
       "    </tr>\n",
       "  </thead>\n",
       "  <tbody>\n",
       "    <tr>\n",
       "      <th>0</th>\n",
       "      <td>7</td>\n",
       "      <td>1</td>\n",
       "      <td>0</td>\n",
       "    </tr>\n",
       "    <tr>\n",
       "      <th>1</th>\n",
       "      <td>4</td>\n",
       "      <td>0</td>\n",
       "      <td>0</td>\n",
       "    </tr>\n",
       "    <tr>\n",
       "      <th>2</th>\n",
       "      <td>8</td>\n",
       "      <td>0</td>\n",
       "      <td>1</td>\n",
       "    </tr>\n",
       "    <tr>\n",
       "      <th>3</th>\n",
       "      <td>4</td>\n",
       "      <td>0</td>\n",
       "      <td>0</td>\n",
       "    </tr>\n",
       "    <tr>\n",
       "      <th>4</th>\n",
       "      <td>8</td>\n",
       "      <td>0</td>\n",
       "      <td>1</td>\n",
       "    </tr>\n",
       "  </tbody>\n",
       "</table>\n",
       "</div>"
      ],
      "text/plain": [
       "   SO  SB  CS\n",
       "0   7   1   0\n",
       "1   4   0   0\n",
       "2   8   0   1\n",
       "3   4   0   0\n",
       "4   8   0   1"
      ]
     },
     "execution_count": 22,
     "metadata": {},
     "output_type": "execute_result"
    }
   ],
   "source": [
    "# final array to augment\n",
    "df3.head()"
   ]
  },
  {
   "cell_type": "code",
   "execution_count": 23,
   "id": "646b78fe",
   "metadata": {},
   "outputs": [],
   "source": [
    "m,_=df3.shape"
   ]
  },
  {
   "cell_type": "code",
   "execution_count": 24,
   "id": "890c8cd7",
   "metadata": {},
   "outputs": [],
   "source": [
    "# Adds a column with all entries 1\n",
    "A=np.ones((m, 1))"
   ]
  },
  {
   "cell_type": "code",
   "execution_count": 25,
   "id": "2cb7c1fe",
   "metadata": {},
   "outputs": [],
   "source": [
    "df3.insert(1, 'dumb', A)"
   ]
  },
  {
   "cell_type": "code",
   "execution_count": 26,
   "id": "0d4375dc",
   "metadata": {},
   "outputs": [
    {
     "data": {
      "text/html": [
       "<div>\n",
       "<style scoped>\n",
       "    .dataframe tbody tr th:only-of-type {\n",
       "        vertical-align: middle;\n",
       "    }\n",
       "\n",
       "    .dataframe tbody tr th {\n",
       "        vertical-align: top;\n",
       "    }\n",
       "\n",
       "    .dataframe thead th {\n",
       "        text-align: right;\n",
       "    }\n",
       "</style>\n",
       "<table border=\"1\" class=\"dataframe\">\n",
       "  <thead>\n",
       "    <tr style=\"text-align: right;\">\n",
       "      <th></th>\n",
       "      <th>SO</th>\n",
       "      <th>dumb</th>\n",
       "      <th>SB</th>\n",
       "      <th>CS</th>\n",
       "    </tr>\n",
       "  </thead>\n",
       "  <tbody>\n",
       "    <tr>\n",
       "      <th>0</th>\n",
       "      <td>7</td>\n",
       "      <td>1.0</td>\n",
       "      <td>1</td>\n",
       "      <td>0</td>\n",
       "    </tr>\n",
       "    <tr>\n",
       "      <th>1</th>\n",
       "      <td>4</td>\n",
       "      <td>1.0</td>\n",
       "      <td>0</td>\n",
       "      <td>0</td>\n",
       "    </tr>\n",
       "    <tr>\n",
       "      <th>2</th>\n",
       "      <td>8</td>\n",
       "      <td>1.0</td>\n",
       "      <td>0</td>\n",
       "      <td>1</td>\n",
       "    </tr>\n",
       "    <tr>\n",
       "      <th>3</th>\n",
       "      <td>4</td>\n",
       "      <td>1.0</td>\n",
       "      <td>0</td>\n",
       "      <td>0</td>\n",
       "    </tr>\n",
       "    <tr>\n",
       "      <th>4</th>\n",
       "      <td>8</td>\n",
       "      <td>1.0</td>\n",
       "      <td>0</td>\n",
       "      <td>1</td>\n",
       "    </tr>\n",
       "  </tbody>\n",
       "</table>\n",
       "</div>"
      ],
      "text/plain": [
       "   SO  dumb  SB  CS\n",
       "0   7   1.0   1   0\n",
       "1   4   1.0   0   0\n",
       "2   8   1.0   0   1\n",
       "3   4   1.0   0   0\n",
       "4   8   1.0   0   1"
      ]
     },
     "execution_count": 26,
     "metadata": {},
     "output_type": "execute_result"
    }
   ],
   "source": [
    "df3.head()"
   ]
  },
  {
   "cell_type": "code",
   "execution_count": 28,
   "id": "a5903b40",
   "metadata": {},
   "outputs": [],
   "source": [
    "# exports to a csv\n",
    "df3.to_csv('df3.csv')"
   ]
  }
 ],
 "metadata": {
  "kernelspec": {
   "display_name": "Python 3",
   "language": "python",
   "name": "python3"
  },
  "language_info": {
   "codemirror_mode": {
    "name": "ipython",
    "version": 3
   },
   "file_extension": ".py",
   "mimetype": "text/x-python",
   "name": "python",
   "nbconvert_exporter": "python",
   "pygments_lexer": "ipython3",
   "version": "3.11.9"
  }
 },
 "nbformat": 4,
 "nbformat_minor": 5
}
