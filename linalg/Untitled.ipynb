{
 "cells": [
  {
   "cell_type": "code",
   "execution_count": 2,
   "id": "774f6063-308e-4cab-a0a5-4176da01098c",
   "metadata": {},
   "outputs": [
    {
     "ename": "SyntaxError",
     "evalue": "invalid syntax (2187141583.py, line 1)",
     "output_type": "error",
     "traceback": [
      "\u001b[0;36m  Cell \u001b[0;32mIn[2], line 1\u001b[0;36m\u001b[0m\n\u001b[0;31m    // Demetrius Hullum Scott, 8/27/2024\u001b[0m\n\u001b[0m    ^\u001b[0m\n\u001b[0;31mSyntaxError\u001b[0m\u001b[0;31m:\u001b[0m invalid syntax\n"
     ]
    }
   ],
   "source": [
    "Demetrius Hullum Scott, 8/27/2024"
   ]
  },
  {
   "cell_type": "code",
   "execution_count": 3,
   "id": "b85c6fb9-ea49-4169-844b-8e9ade539119",
   "metadata": {},
   "outputs": [],
   "source": [
    "import numpy as np"
   ]
  },
  {
   "cell_type": "code",
   "execution_count": 8,
   "id": "7b770c4e-caa3-4d3e-b35d-df2f6269f1d3",
   "metadata": {},
   "outputs": [
    {
     "data": {
      "text/plain": [
       "array([[0.42245421, 0.34004979, 0.20566496, 0.84859859],\n",
       "       [0.62282255, 0.98103641, 0.73688678, 0.55050202],\n",
       "       [0.36609519, 0.02279026, 0.88367974, 0.16474508],\n",
       "       [0.74427617, 0.95680829, 0.38130935, 0.09881901],\n",
       "       [0.69058386, 0.09574966, 0.34501228, 0.00615174]])"
      ]
     },
     "execution_count": 8,
     "metadata": {},
     "output_type": "execute_result"
    }
   ],
   "source": [
    "A = np.random.rand(5,4)\n",
    "A"
   ]
  },
  {
   "cell_type": "code",
   "execution_count": 9,
   "id": "b9593a8d-872d-4305-b827-41f70b2c879d",
   "metadata": {},
   "outputs": [
    {
     "data": {
      "text/plain": [
       "array([[0.20566496, 0.84859859],\n",
       "       [0.73688678, 0.55050202],\n",
       "       [0.88367974, 0.16474508]])"
      ]
     },
     "execution_count": 9,
     "metadata": {},
     "output_type": "execute_result"
    }
   ],
   "source": [
    "B = A[0:3,2:4]\n",
    "B"
   ]
  },
  {
   "cell_type": "code",
   "execution_count": null,
   "id": "ca197cfa-19a6-4c8a-b2f6-cf51988e4a9c",
   "metadata": {},
   "outputs": [],
   "source": []
  }
 ],
 "metadata": {
  "kernelspec": {
   "display_name": "Python 3 (ipykernel)",
   "language": "python",
   "name": "python3"
  },
  "language_info": {
   "codemirror_mode": {
    "name": "ipython",
    "version": 3
   },
   "file_extension": ".py",
   "mimetype": "text/x-python",
   "name": "python",
   "nbconvert_exporter": "python",
   "pygments_lexer": "ipython3",
   "version": "3.10.12"
  }
 },
 "nbformat": 4,
 "nbformat_minor": 5
}
